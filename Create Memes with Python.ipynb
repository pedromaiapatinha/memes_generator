{
 "cells": [
  {
   "cell_type": "markdown",
   "id": "fc555c35",
   "metadata": {
    "toc": true
   },
   "source": [
    "<h1>Table of Contents<span class=\"tocSkip\"></span></h1>\n",
    "<div class=\"toc\"><ul class=\"toc-item\"></ul></div>"
   ]
  },
  {
   "cell_type": "code",
   "execution_count": 1,
   "id": "ead4f7b1",
   "metadata": {
    "ExecuteTime": {
     "end_time": "2023-05-16T19:05:43.886881Z",
     "start_time": "2023-05-16T19:05:43.861881Z"
    }
   },
   "outputs": [],
   "source": [
    "from PIL import Image, ImageDraw, ImageFont"
   ]
  },
  {
   "cell_type": "code",
   "execution_count": 2,
   "id": "4e464b5a",
   "metadata": {
    "ExecuteTime": {
     "end_time": "2023-05-16T19:05:43.902900Z",
     "start_time": "2023-05-16T19:05:43.887882Z"
    }
   },
   "outputs": [],
   "source": [
    "def generate_meme(image_path, text, font_path, text_color, font_size, shadow_offset, shadow_color):\n",
    "    image = Image.open(image_path)\n",
    "    \n",
    "    blank_image = Image.new(\"RGBA\", image.size)\n",
    "    draw = ImageDraw.Draw(blank_image)\n",
    "    font = ImageFont.truetype(font_path, font_size)\n",
    "    \n",
    "    lines = text.split(\"\\n\")\n",
    "    line_heights = [draw.textbbox((0, 0), line, font=font)[3] - draw.textbbox((0, 0), line, font=font)[1] for line in lines]\n",
    "    text_height = sum(line_heights)\n",
    "    \n",
    "    image_center = (image.width // 2, image.height*2 // 3)\n",
    "    y_start = image.height - text_height - image.height // 6\n",
    "    \n",
    "    # Draw the text shadow\n",
    "    shadow_y = y_start\n",
    "    for line, height in zip(lines, line_heights):\n",
    "        text_width = draw.textbbox((0, 0), line, font=font)[2] - draw.textbbox((0, 0), line, font=font)[0]\n",
    "        text_x = image_center[0] - text_width // 2 + shadow_offset[0]\n",
    "        shadow_position = (text_x, shadow_y, + shadow_offset[1])\n",
    "        draw.text(shadow_position, line, fill=shadow_color, font=font)\n",
    "        shadow_y += height\n",
    "    \n",
    "    \n",
    "    # Draw the main text\n",
    "    text_y = y_start\n",
    "    for line, height in zip(lines, line_heights):\n",
    "        text_width = draw.textbbox((0, 0), line, font=font)[2] - draw.textbbox((0, 0), line, font=font)[0]\n",
    "        text_x = image_center[0] - text_width // 2\n",
    "        text_position = (text_x, text_y)\n",
    "        draw.text(text_position, line, fill=text_color, font=font)\n",
    "        text_y += height\n",
    "    \n",
    "    final_image = Image.alpha_composite(image.convert(\"RGBA\"), blank_image)\n",
    "    \n",
    "    return final_image"
   ]
  },
  {
   "cell_type": "code",
   "execution_count": 3,
   "id": "1912e9f3",
   "metadata": {
    "ExecuteTime": {
     "end_time": "2023-05-16T19:05:47.281770Z",
     "start_time": "2023-05-16T19:05:43.902900Z"
    }
   },
   "outputs": [],
   "source": [
    "image_path = \"memes/1.JPG\"\n",
    "text = \"When you forget to document\\n your code for 99 days\"\n",
    "font_path = \"impact/impact.ttf\"\n",
    "text_color = \"white\"\n",
    "font_size = 16\n",
    "shadow_offset = (2, 2)\n",
    "shadow_color = \"black\"\n",
    "\n",
    "meme = generate_meme(image_path, text, font_path, text_color, font_size, shadow_offset, shadow_color)\n",
    "meme.show()"
   ]
  },
  {
   "cell_type": "code",
   "execution_count": 4,
   "id": "07bce1a6",
   "metadata": {
    "ExecuteTime": {
     "end_time": "2023-05-16T19:05:47.312306Z",
     "start_time": "2023-05-16T19:05:47.282772Z"
    }
   },
   "outputs": [],
   "source": [
    "meme.save(\"final_meme.png\")"
   ]
  },
  {
   "cell_type": "code",
   "execution_count": null,
   "id": "684b4daf",
   "metadata": {},
   "outputs": [],
   "source": []
  }
 ],
 "metadata": {
  "kernelspec": {
   "display_name": "Python 3",
   "language": "python",
   "name": "python3"
  },
  "language_info": {
   "codemirror_mode": {
    "name": "ipython",
    "version": 3
   },
   "file_extension": ".py",
   "mimetype": "text/x-python",
   "name": "python",
   "nbconvert_exporter": "python",
   "pygments_lexer": "ipython3",
   "version": "3.8.8"
  },
  "toc": {
   "base_numbering": 1,
   "nav_menu": {},
   "number_sections": true,
   "sideBar": true,
   "skip_h1_title": true,
   "title_cell": "Table of Contents",
   "title_sidebar": "Contents",
   "toc_cell": true,
   "toc_position": {},
   "toc_section_display": true,
   "toc_window_display": false
  }
 },
 "nbformat": 4,
 "nbformat_minor": 5
}
